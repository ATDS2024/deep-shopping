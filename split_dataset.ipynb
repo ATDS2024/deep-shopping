{
 "cells": [
  {
   "cell_type": "code",
   "execution_count": 2,
   "metadata": {},
   "outputs": [
    {
     "name": "stdout",
     "output_type": "stream",
     "text": [
      "Saved test split to data/test_modified2.csv\n",
      "Saved train split to data/train_modified2.csv\n",
      "Saved val split to data/val_modified2.csv\n"
     ]
    }
   ],
   "source": [
    "import pandas as pd\n",
    "\n",
    "# Load the dataset\n",
    "df = pd.read_csv('data/vali_modified.csv')\n",
    "\n",
    "# Assuming 'split' column exists and it indicates the data split (train, val, test)\n",
    "# Split the DataFrame based on the 'split' column\n",
    "def split_and_save(df, path='data'):\n",
    "    # Split the DataFrame into groups\n",
    "    groups = df.groupby('split')\n",
    "\n",
    "    # Save each group to a separate file\n",
    "    for split_name, group in groups:\n",
    "        filename = f'{path}/{split_name}_modified2.csv'\n",
    "        group.to_csv(filename, index=False)\n",
    "        print(f'Saved {split_name} split to {filename}')\n",
    "\n",
    "# Now calling the function will split the DataFrame and save the splits to separate files\n",
    "split_and_save(df)\n"
   ]
  },
  {
   "cell_type": "code",
   "execution_count": null,
   "metadata": {},
   "outputs": [],
   "source": []
  }
 ],
 "metadata": {
  "kernelspec": {
   "display_name": "Python 3",
   "language": "python",
   "name": "python3"
  },
  "language_info": {
   "codemirror_mode": {
    "name": "ipython",
    "version": 3
   },
   "file_extension": ".py",
   "mimetype": "text/x-python",
   "name": "python",
   "nbconvert_exporter": "python",
   "pygments_lexer": "ipython3",
   "version": "3.10.10"
  }
 },
 "nbformat": 4,
 "nbformat_minor": 2
}
